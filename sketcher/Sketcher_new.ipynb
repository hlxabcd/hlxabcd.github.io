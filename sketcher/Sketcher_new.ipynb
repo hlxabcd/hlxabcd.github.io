{
  "nbformat": 4,
  "nbformat_minor": 0,
  "metadata": {
    "colab": {
      "name": "Sketcher.ipynb",
      "version": "0.3.2",
      "provenance": [],
      "toc_visible": true,
      "include_colab_link": true
    },
    "kernelspec": {
      "name": "python3",
      "display_name": "Python 3"
    },
    "accelerator": "GPU"
  },
  "cells": [
    {
      "cell_type": "markdown",
      "metadata": {
        "id": "view-in-github",
        "colab_type": "text"
      },
      "source": [
        "<a href=\"https://colab.research.google.com/github/hlxabcd/hlxabcd.github.io/blob/master/sketcher/Sketcher_new.ipynb\" target=\"_parent\"><img src=\"https://colab.research.google.com/assets/colab-badge.svg\" alt=\"Open In Colab\"/></a>"
      ]
    },
    {
      "metadata": {
        "id": "zlx6-LFL_jbi",
        "colab_type": "text"
      },
      "cell_type": "markdown",
      "source": [
        "This file contains a subset of the quick draw classes. I choose around 100 classes from the dataset. "
      ]
    },
    {
      "metadata": {
        "id": "6H3ATAdp_URp",
        "colab_type": "text"
      },
      "cell_type": "markdown",
      "source": [
        "# Get the Class names "
      ]
    },
    {
      "metadata": {
        "id": "IZJOS1B8QbZ2",
        "colab_type": "code",
        "colab": {}
      },
      "cell_type": "code",
      "source": [
        "!rm -rf data_process"
      ],
      "execution_count": 0,
      "outputs": []
    },
    {
      "metadata": {
        "id": "XXv-xzU1sd88",
        "colab_type": "code",
        "outputId": "3e9af9dd-1d5b-4eed-cd80-d12a3a10d754",
        "colab": {
          "base_uri": "https://localhost:8080/",
          "height": 215
        }
      },
      "cell_type": "code",
      "source": [
        "!wget 'https://raw.githubusercontent.com/hlxabcd/hlxabcd.github.io/master/sketcher/class_names.txt'"
      ],
      "execution_count": 28,
      "outputs": [
        {
          "output_type": "stream",
          "text": [
            "--2019-03-19 13:40:00--  https://raw.githubusercontent.com/hlxabcd/hlxabcd.github.io/master/sketcher/class_names.txt\n",
            "Resolving raw.githubusercontent.com (raw.githubusercontent.com)... 151.101.0.133, 151.101.64.133, 151.101.128.133, ...\n",
            "Connecting to raw.githubusercontent.com (raw.githubusercontent.com)|151.101.0.133|:443... connected.\n",
            "HTTP request sent, awaiting response... 200 OK\n",
            "Length: 2790 (2.7K) [text/plain]\n",
            "Saving to: ‘class_names.txt.4’\n",
            "\n",
            "\rclass_names.txt.4     0%[                    ]       0  --.-KB/s               \rclass_names.txt.4   100%[===================>]   2.72K  --.-KB/s    in 0s      \n",
            "\n",
            "2019-03-19 13:40:01 (56.6 MB/s) - ‘class_names.txt.4’ saved [2790/2790]\n",
            "\n"
          ],
          "name": "stdout"
        }
      ]
    },
    {
      "metadata": {
        "id": "4GL_TdMffD6-",
        "colab_type": "text"
      },
      "cell_type": "markdown",
      "source": [
        "Read the classes names "
      ]
    },
    {
      "metadata": {
        "id": "eP-OxOx5sy0b",
        "colab_type": "code",
        "colab": {}
      },
      "cell_type": "code",
      "source": [
        "f = open(\"class_names.txt\",\"r\")\n",
        "# And for reading use\n",
        "classes = f.readlines()\n",
        "f.close()"
      ],
      "execution_count": 0,
      "outputs": []
    },
    {
      "metadata": {
        "id": "lTE6D3uxtMc5",
        "colab_type": "code",
        "colab": {}
      },
      "cell_type": "code",
      "source": [
        "classes = [c.replace('\\n','').replace(' ','_') for c in classes]"
      ],
      "execution_count": 0,
      "outputs": []
    },
    {
      "metadata": {
        "id": "5NDfBHVjACAt",
        "colab_type": "text"
      },
      "cell_type": "markdown",
      "source": [
        "# Download the Dataset "
      ]
    },
    {
      "metadata": {
        "id": "7MC_PUS-fKjH",
        "colab_type": "text"
      },
      "cell_type": "markdown",
      "source": [
        "Loop over the classes and download the currospondent data"
      ]
    },
    {
      "metadata": {
        "id": "rdSUnpL0u22Q",
        "colab_type": "code",
        "outputId": "135995ae-461e-4d03-adca-41b908c4fc3a",
        "colab": {
          "base_uri": "https://localhost:8080/",
          "height": 35
        }
      },
      "cell_type": "code",
      "source": [
        "!mkdir data"
      ],
      "execution_count": 31,
      "outputs": [
        {
          "output_type": "stream",
          "text": [
            "mkdir: cannot create directory ‘data’: File exists\n"
          ],
          "name": "stdout"
        }
      ]
    },
    {
      "metadata": {
        "id": "22DPhL5FtWcQ",
        "colab_type": "code",
        "colab": {}
      },
      "cell_type": "code",
      "source": [
        "import urllib.request\n",
        "import os\n",
        "def download():\n",
        "  \n",
        "  base = 'https://storage.googleapis.com/quickdraw_dataset/full/numpy_bitmap/'\n",
        "  for c in classes:\n",
        "    cls_url = c.replace('_', '%20')\n",
        "    if not os.path.exists('data/' + c + '.npy'):\n",
        "        path = base+cls_url+'.npy'\n",
        "        print(path)\n",
        "        urllib.request.urlretrieve(path, 'data/'+c+'.npy')"
      ],
      "execution_count": 0,
      "outputs": []
    },
    {
      "metadata": {
        "id": "O5jF6TXXu-Bu",
        "colab_type": "code",
        "colab": {}
      },
      "cell_type": "code",
      "source": [
        "download() "
      ],
      "execution_count": 0,
      "outputs": []
    },
    {
      "metadata": {
        "id": "uEdnbBVXAI-X",
        "colab_type": "text"
      },
      "cell_type": "markdown",
      "source": [
        "# Imports "
      ]
    },
    {
      "metadata": {
        "id": "J2FYrPgOKh6t",
        "colab_type": "code",
        "colab": {}
      },
      "cell_type": "code",
      "source": [
        "import os\n",
        "import glob\n",
        "import numpy as np\n",
        "from tensorflow.keras import layers\n",
        "from tensorflow import keras \n",
        "import tensorflow as tf"
      ],
      "execution_count": 0,
      "outputs": []
    },
    {
      "metadata": {
        "id": "rxgNFjNM5sWj",
        "colab_type": "text"
      },
      "cell_type": "markdown",
      "source": [
        "# 分割npy库提高加载效率"
      ]
    },
    {
      "metadata": {
        "id": "SisxobWa54B-",
        "colab_type": "code",
        "colab": {}
      },
      "cell_type": "code",
      "source": [
        "def split_dataset(root,target,max_items_per_class= 1000 ):\n",
        "     all_files = glob.glob(os.path.join(root, '*.npy'))\n",
        "     for idx, file in enumerate(all_files):\n",
        "        print(\"process npy:\",idx,file)\n",
        "        data = np.load(file)\n",
        "        # npy长度\n",
        "        dataset_len = len(data)\n",
        "        start = 0\n",
        "        end = max_items_per_class\n",
        "        num = 1\n",
        "        fileName = file.split('/')[1].split('.')[0]\n",
        "        # 按max_items_per_class分割npy文件\n",
        "        while (start < dataset_len):\n",
        "            resultData = data[start: end, :]\n",
        "            # 分割后的文件命名\n",
        "            targetFile = os.path.join(target, fileName+'_'+str(num)+'.npy');\n",
        "            if not os.path.exists(targetFile):\n",
        "              np.save(targetFile, resultData)\n",
        "            num+=1\n",
        "            start+=max_items_per_class\n",
        "            end+=max_items_per_class\n"
      ],
      "execution_count": 0,
      "outputs": []
    },
    {
      "metadata": {
        "id": "CbXnUx_z90Iw",
        "colab_type": "code",
        "outputId": "cb2f0880-b21f-47b4-afe8-7864067e2904",
        "colab": {
          "base_uri": "https://localhost:8080/",
          "height": 6227
        }
      },
      "cell_type": "code",
      "source": [
        "# 分割npy\n",
        "!mkdir data_process2\n",
        "split_dataset('data','data_process2')"
      ],
      "execution_count": 49,
      "outputs": [
        {
          "output_type": "stream",
          "text": [
            "process npy: 0 data/hot_tub.npy\n",
            "process npy: 1 data/underwear.npy\n",
            "process npy: 2 data/flashlight.npy\n",
            "process npy: 3 data/ice_cream.npy\n",
            "process npy: 4 data/watermelon.npy\n",
            "process npy: 5 data/shovel.npy\n",
            "process npy: 6 data/passport.npy\n",
            "process npy: 7 data/necklace.npy\n",
            "process npy: 8 data/train.npy\n",
            "process npy: 9 data/bathtub.npy\n",
            "process npy: 10 data/square.npy\n",
            "process npy: 11 data/baseball_bat.npy\n",
            "process npy: 12 data/panda.npy\n",
            "process npy: 13 data/spreadsheet.npy\n",
            "process npy: 14 data/floor_lamp.npy\n",
            "process npy: 15 data/ocean.npy\n",
            "process npy: 16 data/scorpion.npy\n",
            "process npy: 17 data/skull.npy\n",
            "process npy: 18 data/toilet.npy\n",
            "process npy: 19 data/cat.npy\n",
            "process npy: 20 data/hexagon.npy\n",
            "process npy: 21 data/elephant.npy\n",
            "process npy: 22 data/helmet.npy\n",
            "process npy: 23 data/pickup_truck.npy\n",
            "process npy: 24 data/grapes.npy\n",
            "process npy: 25 data/broccoli.npy\n",
            "process npy: 26 data/traffic_light.npy\n",
            "process npy: 27 data/garden_hose.npy\n",
            "process npy: 28 data/teapot.npy\n",
            "process npy: 29 data/pond.npy\n",
            "process npy: 30 data/flying_saucer.npy\n",
            "process npy: 31 data/rhinoceros.npy\n",
            "process npy: 32 data/barn.npy\n",
            "process npy: 33 data/television.npy\n",
            "process npy: 34 data/microphone.npy\n",
            "process npy: 35 data/alarm_clock.npy\n",
            "process npy: 36 data/candle.npy\n",
            "process npy: 37 data/monkey.npy\n",
            "process npy: 38 data/flower.npy\n",
            "process npy: 39 data/knee.npy\n",
            "process npy: 40 data/peanut.npy\n",
            "process npy: 41 data/squiggle.npy\n",
            "process npy: 42 data/sheep.npy\n",
            "process npy: 43 data/feather.npy\n",
            "process npy: 44 data/line.npy\n",
            "process npy: 45 data/river.npy\n",
            "process npy: 46 data/basketball.npy\n",
            "process npy: 47 data/stairs.npy\n",
            "process npy: 48 data/stove.npy\n",
            "process npy: 49 data/washing_machine.npy\n",
            "process npy: 50 data/ant.npy\n",
            "process npy: 51 data/vase.npy\n",
            "process npy: 52 data/fireplace.npy\n",
            "process npy: 53 data/marker.npy\n",
            "process npy: 54 data/fire_hydrant.npy\n",
            "process npy: 55 data/cannon.npy\n",
            "process npy: 56 data/canoe.npy\n",
            "process npy: 57 data/tree.npy\n",
            "process npy: 58 data/chair.npy\n",
            "process npy: 59 data/duck.npy\n",
            "process npy: 60 data/chandelier.npy\n",
            "process npy: 61 data/jail.npy\n",
            "process npy: 62 data/bus.npy\n",
            "process npy: 63 data/teddy-bear.npy\n",
            "process npy: 64 data/eye.npy\n",
            "process npy: 65 data/octopus.npy\n",
            "process npy: 66 data/mosquito.npy\n",
            "process npy: 67 data/cookie.npy\n",
            "process npy: 68 data/harp.npy\n",
            "process npy: 69 data/suitcase.npy\n",
            "process npy: 70 data/rake.npy\n",
            "process npy: 71 data/crocodile.npy\n",
            "process npy: 72 data/paintbrush.npy\n",
            "process npy: 73 data/lion.npy\n",
            "process npy: 74 data/bee.npy\n",
            "process npy: 75 data/laptop.npy\n",
            "process npy: 76 data/toothpaste.npy\n",
            "process npy: 77 data/sun.npy\n",
            "process npy: 78 data/speedboat.npy\n",
            "process npy: 79 data/hockey_stick.npy\n",
            "process npy: 80 data/beach.npy\n",
            "process npy: 81 data/truck.npy\n",
            "process npy: 82 data/leaf.npy\n",
            "process npy: 83 data/grass.npy\n",
            "process npy: 84 data/paint_can.npy\n",
            "process npy: 85 data/book.npy\n",
            "process npy: 86 data/hammer.npy\n",
            "process npy: 87 data/wine_bottle.npy\n",
            "process npy: 88 data/bear.npy\n",
            "process npy: 89 data/crab.npy\n",
            "process npy: 90 data/wheel.npy\n",
            "process npy: 91 data/t-shirt.npy\n",
            "process npy: 92 data/shoe.npy\n",
            "process npy: 93 data/see_saw.npy\n",
            "process npy: 94 data/fan.npy\n",
            "process npy: 95 data/star.npy\n",
            "process npy: 96 data/bench.npy\n",
            "process npy: 97 data/cake.npy\n",
            "process npy: 98 data/whale.npy\n",
            "process npy: 99 data/strawberry.npy\n",
            "process npy: 100 data/nail.npy\n",
            "process npy: 101 data/scissors.npy\n",
            "process npy: 102 data/raccoon.npy\n",
            "process npy: 103 data/car.npy\n",
            "process npy: 104 data/camel.npy\n",
            "process npy: 105 data/coffee_cup.npy\n",
            "process npy: 106 data/police_car.npy\n",
            "process npy: 107 data/power_outlet.npy\n",
            "process npy: 108 data/anvil.npy\n",
            "process npy: 109 data/flip_flops.npy\n",
            "process npy: 110 data/carrot.npy\n",
            "process npy: 111 data/mermaid.npy\n",
            "process npy: 112 data/soccer_ball.npy\n",
            "process npy: 113 data/string_bean.npy\n",
            "process npy: 114 data/The_Eiffel_Tower.npy\n",
            "process npy: 115 data/envelope.npy\n",
            "process npy: 116 data/oven.npy\n",
            "process npy: 117 data/bridge.npy\n",
            "process npy: 118 data/lipstick.npy\n",
            "process npy: 119 data/circle.npy\n",
            "process npy: 120 data/tornado.npy\n",
            "process npy: 121 data/diving_board.npy\n",
            "process npy: 122 data/piano.npy\n",
            "process npy: 123 data/rabbit.npy\n",
            "process npy: 124 data/zigzag.npy\n",
            "process npy: 125 data/crayon.npy\n",
            "process npy: 126 data/swing_set.npy\n",
            "process npy: 127 data/fork.npy\n",
            "process npy: 128 data/lighter.npy\n",
            "process npy: 129 data/lantern.npy\n",
            "process npy: 130 data/syringe.npy\n",
            "process npy: 131 data/hurricane.npy\n",
            "process npy: 132 data/rifle.npy\n",
            "process npy: 133 data/pliers.npy\n",
            "process npy: 134 data/bandage.npy\n",
            "process npy: 135 data/table.npy\n",
            "process npy: 136 data/triangle.npy\n",
            "process npy: 137 data/airplane.npy\n",
            "process npy: 138 data/drums.npy\n",
            "process npy: 139 data/bat.npy\n",
            "process npy: 140 data/firetruck.npy\n",
            "process npy: 141 data/pizza.npy\n",
            "process npy: 142 data/eyeglasses.npy\n",
            "process npy: 143 data/mountain.npy\n",
            "process npy: 144 data/bush.npy\n",
            "process npy: 145 data/zebra.npy\n",
            "process npy: 146 data/toaster.npy\n",
            "process npy: 147 data/postcard.npy\n",
            "process npy: 148 data/radio.npy\n",
            "process npy: 149 data/streetlight.npy\n",
            "process npy: 150 data/octagon.npy\n",
            "process npy: 151 data/telephone.npy\n",
            "process npy: 152 data/submarine.npy\n",
            "process npy: 153 data/lollipop.npy\n",
            "process npy: 154 data/popsicle.npy\n",
            "process npy: 155 data/stethoscope.npy\n",
            "process npy: 156 data/pants.npy\n",
            "process npy: 157 data/ambulance.npy\n",
            "process npy: 158 data/sleeping_bag.npy\n",
            "process npy: 159 data/birthday_cake.npy\n",
            "process npy: 160 data/fence.npy\n",
            "process npy: 161 data/pineapple.npy\n",
            "process npy: 162 data/pear.npy\n",
            "process npy: 163 data/dresser.npy\n",
            "process npy: 164 data/door.npy\n",
            "process npy: 165 data/asparagus.npy\n",
            "process npy: 166 data/animal_migration.npy\n",
            "process npy: 167 data/computer.npy\n",
            "process npy: 168 data/hot_dog.npy\n",
            "process npy: 169 data/guitar.npy\n",
            "process npy: 170 data/dragon.npy\n",
            "process npy: 171 data/arm.npy\n",
            "process npy: 172 data/hospital.npy\n",
            "process npy: 173 data/axe.npy\n",
            "process npy: 174 data/palm_tree.npy\n",
            "process npy: 175 data/foot.npy\n",
            "process npy: 176 data/owl.npy\n",
            "process npy: 177 data/bowtie.npy\n",
            "process npy: 178 data/hockey_puck.npy\n",
            "process npy: 179 data/pool.npy\n",
            "process npy: 180 data/horse.npy\n",
            "process npy: 181 data/wine_glass.npy\n",
            "process npy: 182 data/hourglass.npy\n",
            "process npy: 183 data/eraser.npy\n",
            "process npy: 184 data/house.npy\n",
            "process npy: 185 data/dishwasher.npy\n",
            "process npy: 186 data/mailbox.npy\n",
            "process npy: 187 data/skateboard.npy\n",
            "process npy: 188 data/tractor.npy\n",
            "process npy: 189 data/nose.npy\n",
            "process npy: 190 data/binoculars.npy\n",
            "process npy: 191 data/matches.npy\n",
            "process npy: 192 data/calculator.npy\n",
            "process npy: 193 data/The_Great_Wall_of_China.npy\n",
            "process npy: 194 data/dolphin.npy\n",
            "process npy: 195 data/diamond.npy\n",
            "process npy: 196 data/frying_pan.npy\n",
            "process npy: 197 data/mouse.npy\n",
            "process npy: 198 data/golf_club.npy\n",
            "process npy: 199 data/butterfly.npy\n",
            "process npy: 200 data/parachute.npy\n",
            "process npy: 201 data/tent.npy\n",
            "process npy: 202 data/cup.npy\n",
            "process npy: 203 data/van.npy\n",
            "process npy: 204 data/trumpet.npy\n",
            "process npy: 205 data/backpack.npy\n",
            "process npy: 206 data/helicopter.npy\n",
            "process npy: 207 data/hot_air_balloon.npy\n",
            "process npy: 208 data/roller_coaster.npy\n",
            "process npy: 209 data/tooth.npy\n",
            "process npy: 210 data/hand.npy\n",
            "process npy: 211 data/angel.npy\n",
            "process npy: 212 data/snake.npy\n",
            "process npy: 213 data/sea_turtle.npy\n",
            "process npy: 214 data/keyboard.npy\n",
            "process npy: 215 data/castle.npy\n",
            "process npy: 216 data/bottlecap.npy\n",
            "process npy: 217 data/mug.npy\n",
            "process npy: 218 data/baseball.npy\n",
            "process npy: 219 data/spider.npy\n",
            "process npy: 220 data/cell_phone.npy\n",
            "process npy: 221 data/jacket.npy\n",
            "process npy: 222 data/blackberry.npy\n",
            "process npy: 223 data/cactus.npy\n",
            "process npy: 224 data/frog.npy\n",
            "process npy: 225 data/potato.npy\n",
            "process npy: 226 data/lightning.npy\n",
            "process npy: 227 data/map.npy\n",
            "process npy: 228 data/violin.npy\n",
            "process npy: 229 data/giraffe.npy\n",
            "process npy: 230 data/belt.npy\n",
            "process npy: 231 data/camera.npy\n",
            "process npy: 232 data/parrot.npy\n",
            "process npy: 233 data/calendar.npy\n",
            "process npy: 234 data/campfire.npy\n",
            "process npy: 235 data/toothbrush.npy\n",
            "process npy: 236 data/fish.npy\n",
            "process npy: 237 data/paper_clip.npy\n",
            "process npy: 238 data/banana.npy\n",
            "process npy: 239 data/brain.npy\n",
            "process npy: 240 data/goatee.npy\n",
            "process npy: 241 data/trombone.npy\n",
            "process npy: 242 data/ceiling_fan.npy\n",
            "process npy: 243 data/clarinet.npy\n",
            "process npy: 244 data/lighthouse.npy\n",
            "process npy: 245 data/elbow.npy\n",
            "process npy: 246 data/camouflage.npy\n",
            "process npy: 247 data/apple.npy\n",
            "process npy: 248 data/swan.npy\n",
            "process npy: 249 data/leg.npy\n",
            "process npy: 250 data/rain.npy\n",
            "process npy: 251 data/crown.npy\n",
            "process npy: 252 data/remote_control.npy\n",
            "process npy: 253 data/pig.npy\n",
            "process npy: 254 data/sweater.npy\n",
            "process npy: 255 data/microwave.npy\n",
            "process npy: 256 data/cow.npy\n",
            "process npy: 257 data/broom.npy\n",
            "process npy: 258 data/umbrella.npy\n",
            "process npy: 259 data/school_bus.npy\n",
            "process npy: 260 data/knife.npy\n",
            "process npy: 261 data/penguin.npy\n",
            "process npy: 262 data/windmill.npy\n",
            "process npy: 263 data/clock.npy\n",
            "process npy: 264 data/sandwich.npy\n",
            "process npy: 265 data/The_Mona_Lisa.npy\n",
            "process npy: 266 data/donut.npy\n",
            "process npy: 267 data/blueberry.npy\n",
            "process npy: 268 data/dumbbell.npy\n",
            "process npy: 269 data/flamingo.npy\n",
            "process npy: 270 data/bicycle.npy\n",
            "process npy: 271 data/shorts.npy\n",
            "process npy: 272 data/rollerskates.npy\n",
            "process npy: 273 data/saxophone.npy\n",
            "process npy: 274 data/aircraft_carrier.npy\n",
            "process npy: 275 data/drill.npy\n",
            "process npy: 276 data/wristwatch.npy\n",
            "process npy: 277 data/finger.npy\n",
            "process npy: 278 data/beard.npy\n",
            "process npy: 279 data/church.npy\n",
            "process npy: 280 data/garden.npy\n",
            "process npy: 281 data/hat.npy\n",
            "process npy: 282 data/mouth.npy\n",
            "process npy: 283 data/megaphone.npy\n",
            "process npy: 284 data/stitches.npy\n",
            "process npy: 285 data/snorkel.npy\n",
            "process npy: 286 data/spoon.npy\n",
            "process npy: 287 data/tennis_racquet.npy\n",
            "process npy: 288 data/bed.npy\n",
            "process npy: 289 data/skyscraper.npy\n",
            "process npy: 290 data/purse.npy\n",
            "process npy: 291 data/screwdriver.npy\n",
            "process npy: 292 data/hamburger.npy\n",
            "process npy: 293 data/pillow.npy\n",
            "process npy: 294 data/sailboat.npy\n",
            "process npy: 295 data/light_bulb.npy\n",
            "process npy: 296 data/picture_frame.npy\n",
            "process npy: 297 data/basket.npy\n",
            "process npy: 298 data/cooler.npy\n",
            "process npy: 299 data/pencil.npy\n",
            "process npy: 300 data/kangaroo.npy\n",
            "process npy: 301 data/cruise_ship.npy\n",
            "process npy: 302 data/bulldozer.npy\n",
            "process npy: 303 data/shark.npy\n",
            "process npy: 304 data/bird.npy\n",
            "process npy: 305 data/sink.npy\n",
            "process npy: 306 data/saw.npy\n",
            "process npy: 307 data/key.npy\n",
            "process npy: 308 data/ladder.npy\n",
            "process npy: 309 data/face.npy\n",
            "process npy: 310 data/sword.npy\n",
            "process npy: 311 data/toe.npy\n",
            "process npy: 312 data/smiley_face.npy\n",
            "process npy: 313 data/motorbike.npy\n",
            "process npy: 314 data/hedgehog.npy\n",
            "process npy: 315 data/yoga.npy\n",
            "process npy: 316 data/cello.npy\n",
            "process npy: 317 data/moustache.npy\n",
            "process npy: 318 data/compass.npy\n",
            "process npy: 319 data/cloud.npy\n",
            "process npy: 320 data/house_plant.npy\n",
            "process npy: 321 data/ear.npy\n",
            "process npy: 322 data/steak.npy\n",
            "process npy: 323 data/moon.npy\n",
            "process npy: 324 data/couch.npy\n",
            "process npy: 325 data/bucket.npy\n",
            "process npy: 326 data/rainbow.npy\n",
            "process npy: 327 data/sock.npy\n",
            "process npy: 328 data/lobster.npy\n",
            "process npy: 329 data/peas.npy\n",
            "process npy: 330 data/squirrel.npy\n",
            "process npy: 331 data/stereo.npy\n",
            "process npy: 332 data/snowman.npy\n",
            "process npy: 333 data/mushroom.npy\n",
            "process npy: 334 data/boomerang.npy\n",
            "process npy: 335 data/tiger.npy\n",
            "process npy: 336 data/waterslide.npy\n",
            "process npy: 337 data/stop_sign.npy\n",
            "process npy: 338 data/dog.npy\n",
            "process npy: 339 data/snowflake.npy\n",
            "process npy: 340 data/bread.npy\n",
            "process npy: 341 data/bracelet.npy\n",
            "process npy: 342 data/snail.npy\n",
            "process npy: 343 data/headphones.npy\n",
            "process npy: 344 data/onion.npy\n"
          ],
          "name": "stdout"
        }
      ]
    },
    {
      "metadata": {
        "id": "6o30ipBPAQ5Y",
        "colab_type": "text"
      },
      "cell_type": "markdown",
      "source": [
        "# Load the Data "
      ]
    },
    {
      "metadata": {
        "id": "UBq3GXEKAYuO",
        "colab_type": "text"
      },
      "cell_type": "markdown",
      "source": [
        "Each class contains different number samples of arrays stored as .npy format. Since we have some memory limitations we only load 5000 images per class.  "
      ]
    },
    {
      "metadata": {
        "id": "6HEIgQNHYQnl",
        "colab_type": "code",
        "colab": {}
      },
      "cell_type": "code",
      "source": [
        "def load_data(root, vfold_ratio=0.2, max_items_per_class= 2000 ):\n",
        "    all_files = glob.glob(os.path.join(root, '*.npy'))\n",
        "\n",
        "    #initialize variables \n",
        "    x = np.empty([0, 784])\n",
        "    y = np.empty([0])\n",
        "    class_names = []\n",
        "\n",
        "    #load each data file \n",
        "    for idx, file in enumerate(all_files):\n",
        "        print(idx,file)\n",
        "        data = np.load(file)\n",
        "        data = data[0: max_items_per_class, :]\n",
        "        labels = np.full(data.shape[0], idx)\n",
        "\n",
        "        x = np.concatenate((x, data), axis=0)\n",
        "        y = np.append(y, labels)\n",
        "\n",
        "        class_name, ext = os.path.splitext(os.path.basename(file))\n",
        "        class_names.append(class_name)\n",
        "\n",
        "    data = None\n",
        "    labels = None\n",
        "    \n",
        "    #randomize the dataset \n",
        "    permutation = np.random.permutation(y.shape[0])\n",
        "    x = x[permutation, :]\n",
        "    y = y[permutation]\n",
        "\n",
        "    #separate into training and testing \n",
        "    vfold_size = int(x.shape[0]/100*(vfold_ratio*100))\n",
        "\n",
        "    x_test = x[0:vfold_size, :]\n",
        "    y_test = y[0:vfold_size]\n",
        "\n",
        "    x_train = x[vfold_size:x.shape[0], :]\n",
        "    y_train = y[vfold_size:y.shape[0]]\n",
        "    return x_train, y_train, x_test, y_test, class_names\n",
        "  \n",
        "def load_data_process(root, data_process_num, vfold_ratio=0.2):\n",
        "    all_files = glob.glob(os.path.join(root, '*_'+str(data_process_num)+'.npy'))\n",
        "\n",
        "    #initialize variables \n",
        "    x = np.empty([0, 784])\n",
        "    y = np.empty([0])\n",
        "    class_names = []\n",
        "\n",
        "    #load each data file \n",
        "    for idx, file in enumerate(all_files):\n",
        "        print(idx,file)\n",
        "        data = np.load(file)\n",
        "        labels = np.full(data.shape[0], idx)\n",
        "        x = np.concatenate((x, data), axis=0)\n",
        "        y = np.append(y, labels)\n",
        "\n",
        "        class_name, ext = os.path.splitext(os.path.basename(file))\n",
        "        class_names.append(class_name)\n",
        "\n",
        "    data = None\n",
        "    labels = None\n",
        "    \n",
        "    #randomize the dataset \n",
        "    permutation = np.random.permutation(y.shape[0])\n",
        "    x = x[permutation, :]\n",
        "    y = y[permutation]\n",
        "\n",
        "    #separate into training and testing \n",
        "    vfold_size = int(x.shape[0]/100*(vfold_ratio*100))\n",
        "\n",
        "    x_test = x[0:vfold_size, :]\n",
        "    y_test = y[0:vfold_size]\n",
        "\n",
        "    x_train = x[vfold_size:x.shape[0], :]\n",
        "    y_train = y[vfold_size:y.shape[0]]\n",
        "    return x_train, y_train, x_test, y_test, class_names"
      ],
      "execution_count": 0,
      "outputs": []
    },
    {
      "metadata": {
        "id": "pZvLn8NuJxCZ",
        "colab_type": "code",
        "colab": {}
      },
      "cell_type": "code",
      "source": [
        "# class数量\n",
        "num_classes=345\n",
        "image_size = 28"
      ],
      "execution_count": 0,
      "outputs": []
    },
    {
      "metadata": {
        "id": "rL6XAb4hBMSc",
        "colab_type": "text"
      },
      "cell_type": "markdown",
      "source": [
        "# 准备model"
      ]
    },
    {
      "metadata": {
        "id": "uYUVV2wf2z8H",
        "colab_type": "code",
        "colab": {}
      },
      "cell_type": "code",
      "source": [
        ""
      ],
      "execution_count": 0,
      "outputs": []
    },
    {
      "metadata": {
        "id": "K6uUjN-WL2Y9",
        "colab_type": "code",
        "outputId": "8d805fb4-7add-4eaf-8389-48c4c36f3777",
        "colab": {
          "base_uri": "https://localhost:8080/",
          "height": 5507
        }
      },
      "cell_type": "code",
      "source": [
        "#x_train, y_train, x_test, y_test, class_names = load_data('data')\n",
        "#num_classes = len(class_names)\n",
        "#print(len(x_train))\n",
        "data_process_count=2\n",
        "count=1\n",
        "while(count<=data_process_count):\n",
        "  # load\n",
        "  x_train, y_train, x_test, y_test, class_names = load_data_process('data_process2',count)\n",
        "  \n",
        "  if count==1:\n",
        "  # Define model\n",
        "    num_classes = len(class_names)\n",
        "    model = keras.Sequential()\n",
        "    model.add(layers.Convolution2D(16, (3, 3),\n",
        "                            padding='same',\n",
        "                            input_shape=x_train.shape[1:], activation='relu'))\n",
        "    model.add(layers.MaxPooling2D(pool_size=(2, 2)))\n",
        "    model.add(layers.Convolution2D(32, (3, 3), padding='same', activation= 'relu'))\n",
        "    model.add(layers.MaxPooling2D(pool_size=(2, 2)))\n",
        "    model.add(layers.Convolution2D(64, (3, 3), padding='same', activation= 'relu'))\n",
        "    model.add(layers.MaxPooling2D(pool_size =(2,2)))\n",
        "    model.add(layers.Flatten())\n",
        "    model.add(layers.Dense(128, activation='relu'))\n",
        "    model.add(layers.Dense(num_classes, activation='softmax')) \n",
        "    # Train model\n",
        "    adam = tf.train.AdamOptimizer()\n",
        "    model.compile(loss='categorical_crossentropy',\n",
        "                  optimizer=adam,\n",
        "                  metrics=['top_k_categorical_accuracy'])\n",
        "    print(model.summary())\n",
        "  \n",
        "  # show random data\n",
        "  import matplotlib.pyplot as plt\n",
        "  from random import randint\n",
        "  %matplotlib inline  \n",
        "  idx = randint(0, len(x_train))\n",
        "  plt.imshow(x_train[idx].reshape(28,28)) \n",
        "  print(class_names[int(y_train[idx].item())])\n",
        "    \n",
        "  # Reshape and normalize\n",
        "  x_train = x_train.reshape(x_train.shape[0], image_size, image_size, 1).astype('float32')/255.0\n",
        "  x_test = x_test.reshape(x_test.shape[0], image_size, image_size, 1).astype('float32')/255.0\n",
        "\n",
        "  # Convert class vectors to class matrices\n",
        "  y_train = keras.utils.to_categorical(y_train, num_classes)\n",
        "  y_test = keras.utils.to_categorical(y_test, num_classes)\n",
        "  \n",
        "  model.fit(x = x_train, y = y_train, validation_split=0.1, batch_size = 256, verbose=2, epochs=5)\n",
        "  \n",
        "  score = model.evaluate(x_test, y_test, verbose=0)\n",
        "  print('Test accuarcy: {:0.2f}%'.format(score[1] * 100))\n"
      ],
      "execution_count": 0,
      "outputs": [
        {
          "output_type": "stream",
          "text": [
            "0 data_process/house_plant121.npy\n",
            "1 data_process/pliers61.npy\n",
            "2 data_process/saw71.npy\n",
            "3 data_process/animal_migration91.npy\n",
            "4 data_process/table101.npy\n",
            "5 data_process/snowflake51.npy\n",
            "6 data_process/chandelier81.npy\n",
            "7 data_process/jail61.npy\n",
            "8 data_process/blueberry51.npy\n",
            "9 data_process/tooth41.npy\n",
            "10 data_process/cannon141.npy\n",
            "11 data_process/drums101.npy\n",
            "12 data_process/marker291.npy\n",
            "13 data_process/birthday_cake101.npy\n",
            "14 data_process/pond61.npy\n",
            "15 data_process/drums11.npy\n",
            "16 data_process/sword121.npy\n",
            "17 data_process/snail71.npy\n",
            "18 data_process/hexagon121.npy\n",
            "19 data_process/peas11.npy\n",
            "20 data_process/windmill1.npy\n",
            "21 data_process/grass91.npy\n",
            "22 data_process/umbrella21.npy\n",
            "23 data_process/sandwich51.npy\n",
            "24 data_process/wine_glass31.npy\n",
            "25 data_process/hospital131.npy\n",
            "26 data_process/violin171.npy\n",
            "27 data_process/dresser21.npy\n",
            "28 data_process/saxophone71.npy\n",
            "29 data_process/moustache61.npy\n",
            "30 data_process/circle1.npy\n",
            "31 data_process/windmill121.npy\n",
            "32 data_process/horse151.npy\n",
            "33 data_process/spreadsheet1.npy\n",
            "34 data_process/soccer_ball1.npy\n",
            "35 data_process/yoga251.npy\n",
            "36 data_process/flashlight181.npy\n",
            "37 data_process/lighter111.npy\n",
            "38 data_process/mosquito41.npy\n",
            "39 data_process/traffic_light21.npy\n",
            "40 data_process/mermaid111.npy\n",
            "41 data_process/flashlight11.npy\n",
            "42 data_process/table11.npy\n",
            "43 data_process/dolphin81.npy\n",
            "44 data_process/broom61.npy\n",
            "45 data_process/roller_coaster31.npy\n",
            "46 data_process/star11.npy\n",
            "47 data_process/beach61.npy\n",
            "48 data_process/goatee61.npy\n",
            "49 data_process/flashlight91.npy\n",
            "50 data_process/purse61.npy\n",
            "51 data_process/sailboat101.npy\n",
            "52 data_process/diving_board161.npy\n",
            "53 data_process/sailboat71.npy\n",
            "54 data_process/rake71.npy\n",
            "55 data_process/crocodile51.npy\n",
            "56 data_process/pear61.npy\n",
            "57 data_process/mosquito21.npy\n",
            "58 data_process/tennis_racquet201.npy\n",
            "59 data_process/eraser91.npy\n",
            "60 data_process/lighthouse61.npy\n",
            "61 data_process/trumpet41.npy\n",
            "62 data_process/cooler201.npy\n",
            "63 data_process/angel121.npy\n",
            "64 data_process/The_Great_Wall_of_China131.npy\n",
            "65 data_process/ambulance131.npy\n",
            "66 data_process/picture_frame121.npy\n",
            "67 data_process/eyeglasses131.npy\n",
            "68 data_process/wine_glass21.npy\n",
            "69 data_process/rain111.npy\n",
            "70 data_process/penguin211.npy\n",
            "71 data_process/roller_coaster111.npy\n",
            "72 data_process/wheel21.npy\n",
            "73 data_process/squirrel71.npy\n",
            "74 data_process/school_bus81.npy\n",
            "75 data_process/toilet91.npy\n",
            "76 data_process/microphone41.npy\n",
            "77 data_process/bathtub121.npy\n",
            "78 data_process/carrot71.npy\n",
            "79 data_process/mailbox131.npy\n",
            "80 data_process/oven71.npy\n",
            "81 data_process/matches91.npy\n",
            "82 data_process/dumbbell11.npy\n",
            "83 data_process/angel61.npy\n",
            "84 data_process/snowman201.npy\n",
            "85 data_process/diving_board101.npy\n",
            "86 data_process/peanut91.npy\n",
            "87 data_process/bridge91.npy\n",
            "88 data_process/hand1.npy\n",
            "89 data_process/tennis_racquet101.npy\n",
            "90 data_process/eyeglasses101.npy\n",
            "91 data_process/hot_air_balloon71.npy\n",
            "92 data_process/flashlight111.npy\n",
            "93 data_process/hourglass81.npy\n",
            "94 data_process/square61.npy\n",
            "95 data_process/cake91.npy\n",
            "96 data_process/strawberry41.npy\n",
            "97 data_process/bush1.npy\n",
            "98 data_process/toothpaste31.npy\n",
            "99 data_process/mug101.npy\n",
            "100 data_process/guitar61.npy\n",
            "101 data_process/fish81.npy\n",
            "102 data_process/mouth41.npy\n",
            "103 data_process/elephant41.npy\n",
            "104 data_process/hockey_puck41.npy\n",
            "105 data_process/potato131.npy\n",
            "106 data_process/basketball21.npy\n",
            "107 data_process/megaphone121.npy\n",
            "108 data_process/sleeping_bag21.npy\n",
            "109 data_process/arm41.npy\n",
            "110 data_process/oven41.npy\n",
            "111 data_process/horse91.npy\n",
            "112 data_process/lobster31.npy\n",
            "113 data_process/bracelet11.npy\n",
            "114 data_process/ambulance21.npy\n",
            "115 data_process/drill111.npy\n",
            "116 data_process/palm_tree111.npy\n",
            "117 data_process/bird31.npy\n",
            "118 data_process/waterslide101.npy\n",
            "119 data_process/oven201.npy\n",
            "120 data_process/paintbrush41.npy\n",
            "121 data_process/scorpion71.npy\n",
            "122 data_process/lion51.npy\n",
            "123 data_process/backpack31.npy\n",
            "124 data_process/harp171.npy\n",
            "125 data_process/snorkel121.npy\n",
            "126 data_process/toilet51.npy\n",
            "127 data_process/spoon41.npy\n",
            "128 data_process/cloud61.npy\n",
            "129 data_process/jacket81.npy\n",
            "130 data_process/sheep51.npy\n",
            "131 data_process/pants101.npy\n",
            "132 data_process/ocean21.npy\n",
            "133 data_process/megaphone11.npy\n",
            "134 data_process/crab11.npy\n",
            "135 data_process/marker251.npy\n",
            "136 data_process/passport151.npy\n",
            "137 data_process/bread51.npy\n",
            "138 data_process/violin51.npy\n",
            "139 data_process/owl151.npy\n",
            "140 data_process/yoga181.npy\n",
            "141 data_process/diving_board81.npy\n",
            "142 data_process/microphone101.npy\n",
            "143 data_process/helicopter91.npy\n",
            "144 data_process/pig141.npy\n",
            "145 data_process/penguin21.npy\n",
            "146 data_process/toaster51.npy\n",
            "147 data_process/golf_club11.npy\n",
            "148 data_process/lightning41.npy\n",
            "149 data_process/keyboard41.npy\n",
            "150 data_process/hexagon41.npy\n",
            "151 data_process/sailboat61.npy\n",
            "152 data_process/monkey51.npy\n",
            "153 data_process/ear81.npy\n",
            "154 data_process/nose111.npy\n",
            "155 data_process/car51.npy\n",
            "156 data_process/squiggle41.npy\n",
            "157 data_process/ambulance71.npy\n",
            "158 data_process/blueberry21.npy\n",
            "159 data_process/umbrella1.npy\n",
            "160 data_process/house121.npy\n",
            "161 data_process/lipstick41.npy\n",
            "162 data_process/bicycle101.npy\n",
            "163 data_process/shovel91.npy\n",
            "164 data_process/cookie61.npy\n",
            "165 data_process/helmet31.npy\n",
            "166 data_process/sun71.npy\n",
            "167 data_process/bathtub71.npy\n",
            "168 data_process/camouflage111.npy\n",
            "169 data_process/pig91.npy\n",
            "170 data_process/owl141.npy\n",
            "171 data_process/purse81.npy\n",
            "172 data_process/whale11.npy\n",
            "173 data_process/mermaid131.npy\n",
            "174 data_process/telephone81.npy\n",
            "175 data_process/bridge11.npy\n",
            "176 data_process/couch91.npy\n",
            "177 data_process/banana191.npy\n",
            "178 data_process/skull61.npy\n",
            "179 data_process/paintbrush151.npy\n",
            "180 data_process/castle51.npy\n",
            "181 data_process/bottlecap81.npy\n",
            "182 data_process/rake81.npy\n",
            "183 data_process/hand211.npy\n",
            "184 data_process/traffic_light111.npy\n",
            "185 data_process/tooth71.npy\n",
            "186 data_process/river71.npy\n",
            "187 data_process/rollerskates111.npy\n",
            "188 data_process/drill11.npy\n",
            "189 data_process/octagon61.npy\n",
            "190 data_process/tractor81.npy\n",
            "191 data_process/shoe61.npy\n",
            "192 data_process/line131.npy\n",
            "193 data_process/fire_hydrant21.npy\n",
            "194 data_process/carrot101.npy\n",
            "195 data_process/rabbit121.npy\n",
            "196 data_process/dumbbell21.npy\n",
            "197 data_process/garden151.npy\n",
            "198 data_process/house11.npy\n",
            "199 data_process/flamingo101.npy\n",
            "200 data_process/house61.npy\n",
            "201 data_process/cell_phone61.npy\n",
            "202 data_process/arm21.npy\n",
            "203 data_process/toothbrush101.npy\n",
            "204 data_process/mushroom91.npy\n",
            "205 data_process/The_Mona_Lisa61.npy\n",
            "206 data_process/The_Great_Wall_of_China161.npy\n",
            "207 data_process/oven121.npy\n",
            "208 data_process/beard81.npy\n",
            "209 data_process/elbow91.npy\n",
            "210 data_process/van31.npy\n",
            "211 data_process/mermaid181.npy\n",
            "212 data_process/The_Great_Wall_of_China41.npy\n",
            "213 data_process/birthday_cake21.npy\n",
            "214 data_process/golf_club21.npy\n",
            "215 data_process/lighter31.npy\n",
            "216 data_process/nail111.npy\n",
            "217 data_process/marker271.npy\n",
            "218 data_process/kangaroo101.npy\n",
            "219 data_process/coffee_cup111.npy\n",
            "220 data_process/sleeping_bag81.npy\n",
            "221 data_process/screwdriver61.npy\n",
            "222 data_process/stethoscope111.npy\n",
            "223 data_process/mailbox61.npy\n",
            "224 data_process/helicopter151.npy\n",
            "225 data_process/laptop131.npy\n",
            "226 data_process/stitches41.npy\n",
            "227 data_process/cell_phone1.npy\n",
            "228 data_process/flying_saucer71.npy\n",
            "229 data_process/The_Great_Wall_of_China91.npy\n",
            "230 data_process/jacket51.npy\n",
            "231 data_process/penguin181.npy\n",
            "232 data_process/dragon71.npy\n",
            "233 data_process/microphone91.npy\n",
            "234 data_process/steak71.npy\n",
            "235 data_process/tent91.npy\n",
            "236 data_process/harp21.npy\n",
            "237 data_process/wine_glass41.npy\n",
            "238 data_process/axe41.npy\n",
            "239 data_process/eye71.npy\n",
            "240 data_process/fire_hydrant41.npy\n",
            "241 data_process/bucket11.npy\n",
            "242 data_process/skyscraper151.npy\n",
            "243 data_process/trumpet11.npy\n",
            "244 data_process/stitches121.npy\n",
            "245 data_process/cruise_ship11.npy\n",
            "246 data_process/zigzag121.npy\n",
            "247 data_process/bee31.npy\n",
            "248 data_process/barn51.npy\n",
            "249 data_process/snake111.npy\n",
            "250 data_process/radio21.npy\n",
            "251 data_process/potato41.npy\n",
            "252 data_process/pencil41.npy\n",
            "253 data_process/submarine101.npy\n",
            "254 data_process/hot_air_balloon121.npy\n",
            "255 data_process/finger51.npy\n",
            "256 data_process/rabbit41.npy\n",
            "257 data_process/church71.npy\n",
            "258 data_process/squirrel81.npy\n",
            "259 data_process/mouth21.npy\n",
            "260 data_process/foot181.npy\n",
            "261 data_process/tiger101.npy\n",
            "262 data_process/baseball1.npy\n",
            "263 data_process/axe11.npy\n",
            "264 data_process/helmet41.npy\n",
            "265 data_process/rake41.npy\n",
            "266 data_process/penguin131.npy\n",
            "267 data_process/ear71.npy\n",
            "268 data_process/coffee_cup1.npy\n",
            "269 data_process/keyboard111.npy\n",
            "270 data_process/sock181.npy\n",
            "271 data_process/crayon111.npy\n",
            "272 data_process/onion91.npy\n",
            "273 data_process/elbow31.npy\n",
            "274 data_process/microphone31.npy\n",
            "275 data_process/mug141.npy\n",
            "276 data_process/nail11.npy\n",
            "277 data_process/octagon141.npy\n",
            "278 data_process/frying_pan81.npy\n",
            "279 data_process/mouth1.npy\n",
            "280 data_process/canoe91.npy\n",
            "281 data_process/wheel41.npy\n",
            "282 data_process/monkey91.npy\n",
            "283 data_process/map31.npy\n",
            "284 data_process/floor_lamp121.npy\n",
            "285 data_process/parachute41.npy\n",
            "286 data_process/dog1.npy\n",
            "287 data_process/ocean61.npy\n",
            "288 data_process/nose31.npy\n",
            "289 data_process/asparagus161.npy\n",
            "290 data_process/house101.npy\n",
            "291 data_process/apple61.npy\n",
            "292 data_process/purse101.npy\n",
            "293 data_process/fish11.npy\n",
            "294 data_process/sleeping_bag11.npy\n",
            "295 data_process/compass71.npy\n",
            "296 data_process/cello61.npy\n",
            "297 data_process/paper_clip71.npy\n",
            "298 data_process/flying_saucer41.npy\n",
            "299 data_process/grapes91.npy\n",
            "300 data_process/mug41.npy\n",
            "301 data_process/wine_bottle51.npy\n",
            "302 data_process/mug1.npy\n",
            "303 data_process/parrot41.npy\n",
            "304 data_process/rainbow1.npy\n"
          ],
          "name": "stdout"
        }
      ]
    },
    {
      "metadata": {
        "id": "_YRSRkOyBP1P",
        "colab_type": "text"
      },
      "cell_type": "markdown",
      "source": [
        "# Training "
      ]
    },
    {
      "metadata": {
        "id": "7OMEJ7kF3lsP",
        "colab_type": "code",
        "colab": {}
      },
      "cell_type": "code",
      "source": [
        "model.fit(x = x_train, y = y_train, validation_split=0.1, batch_size = 256, verbose=2, epochs=5)"
      ],
      "execution_count": 0,
      "outputs": []
    },
    {
      "metadata": {
        "id": "d2KztY7qEn9_",
        "colab_type": "text"
      },
      "cell_type": "markdown",
      "source": [
        "# Testing "
      ]
    },
    {
      "metadata": {
        "id": "ssaZczS7DxeA",
        "colab_type": "code",
        "colab": {}
      },
      "cell_type": "code",
      "source": [
        "score = model.evaluate(x_test, y_test, verbose=0)\n",
        "print('Test accuarcy: {:0.2f}%'.format(score[1] * 100))"
      ],
      "execution_count": 0,
      "outputs": []
    },
    {
      "metadata": {
        "id": "9xBM_w0VBbNr",
        "colab_type": "text"
      },
      "cell_type": "markdown",
      "source": [
        "# Inference "
      ]
    },
    {
      "metadata": {
        "id": "nH3JfoiYHdpk",
        "colab_type": "code",
        "colab": {}
      },
      "cell_type": "code",
      "source": [
        "import matplotlib.pyplot as plt\n",
        "from random import randint\n",
        "%matplotlib inline  \n",
        "idx = randint(0, len(x_test))\n",
        "img = x_test[idx]\n",
        "plt.imshow(img.squeeze()) \n",
        "pred = model.predict(np.expand_dims(img, axis=0))[0]\n",
        "ind = (-pred).argsort()[:5]\n",
        "latex = [class_names[x] for x in ind]\n",
        "print(latex)"
      ],
      "execution_count": 0,
      "outputs": []
    },
    {
      "metadata": {
        "id": "YPp5D82YBhM-",
        "colab_type": "text"
      },
      "cell_type": "markdown",
      "source": [
        "# Store the classes "
      ]
    },
    {
      "metadata": {
        "id": "NoFI1msFYpCN",
        "colab_type": "code",
        "colab": {}
      },
      "cell_type": "code",
      "source": [
        "with open('class_names.txt', 'w') as file_handler:\n",
        "    for item in class_names:\n",
        "        file_handler.write(\"{}\\n\".format(item))"
      ],
      "execution_count": 0,
      "outputs": []
    },
    {
      "metadata": {
        "id": "mfJ6dpaDBpRx",
        "colab_type": "text"
      },
      "cell_type": "markdown",
      "source": [
        "# Install TensorFlowJS"
      ]
    },
    {
      "metadata": {
        "id": "hJJDfp9mY9Xh",
        "colab_type": "code",
        "colab": {}
      },
      "cell_type": "code",
      "source": [
        "!pip install tensorflowjs "
      ],
      "execution_count": 0,
      "outputs": []
    },
    {
      "metadata": {
        "id": "-oBl0ZKVB00d",
        "colab_type": "text"
      },
      "cell_type": "markdown",
      "source": [
        "# Save and Convert "
      ]
    },
    {
      "metadata": {
        "id": "XVICB3TbZGb2",
        "colab_type": "code",
        "colab": {}
      },
      "cell_type": "code",
      "source": [
        "model.save('keras.h5')"
      ],
      "execution_count": 0,
      "outputs": []
    },
    {
      "metadata": {
        "id": "bTWWlGdWZOvs",
        "colab_type": "code",
        "colab": {}
      },
      "cell_type": "code",
      "source": [
        "!mkdir model\n",
        "!tensorflowjs_converter --input_format keras keras.h5 model/"
      ],
      "execution_count": 0,
      "outputs": []
    },
    {
      "metadata": {
        "id": "JKYxE2MEB6LV",
        "colab_type": "text"
      },
      "cell_type": "markdown",
      "source": [
        "# Zip and Download "
      ]
    },
    {
      "metadata": {
        "id": "865-t79uaB63",
        "colab_type": "code",
        "colab": {}
      },
      "cell_type": "code",
      "source": [
        "!cp class_names.txt model/class_names.txt"
      ],
      "execution_count": 0,
      "outputs": []
    },
    {
      "metadata": {
        "id": "GLC-MzW8ZXTa",
        "colab_type": "code",
        "colab": {}
      },
      "cell_type": "code",
      "source": [
        "!zip -r model.zip model "
      ],
      "execution_count": 0,
      "outputs": []
    },
    {
      "metadata": {
        "id": "4vfPR03xZZeD",
        "colab_type": "code",
        "colab": {}
      },
      "cell_type": "code",
      "source": [
        "from google.colab import files\n",
        "files.download('model.zip')"
      ],
      "execution_count": 0,
      "outputs": []
    }
  ]
}